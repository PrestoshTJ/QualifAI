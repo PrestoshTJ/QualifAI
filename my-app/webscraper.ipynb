{
  "cells": [
    {
      "cell_type": "markdown",
      "metadata": {
        "id": "view-in-github",
        "colab_type": "text"
      },
      "source": [
        "<a href=\"https://colab.research.google.com/github/PrestoshTJ/QualifAI/blob/main/webscraper.ipynb\" target=\"_parent\"><img src=\"https://colab.research.google.com/assets/colab-badge.svg\" alt=\"Open In Colab\"/></a>"
      ]
    },
    {
      "cell_type": "code",
      "source": [
        "!pip install pymongo"
      ],
      "metadata": {
        "id": "zgRGwxcdB4qU"
      },
      "execution_count": null,
      "outputs": []
    },
    {
      "cell_type": "code",
      "execution_count": null,
      "metadata": {
        "id": "g5YC2O0iOnVZ"
      },
      "outputs": [],
      "source": [
        "# Created With help from https://www.youtube.com/watch?v=-H-JCgvV0z8\n",
        "import requests\n",
        "from bs4 import BeautifulSoup\n",
        "import random\n",
        "import pandas as pd\n",
        "from collections import deque\n",
        "import time\n",
        "import re\n",
        "import json\n",
        "import pymongo\n",
        "\n",
        "\n",
        "\n",
        "keywords = {\"Computer%20Science\", \"Engineering\", \"Business%20Administration\", \"Marketing\", \"Graphic%20Design\", \"Data%20Science\", \"Information%20Technology\", \"Communications\", \"Finance\", \"Environmental%20Science\"}"
      ]
    },
    {
      "cell_type": "code",
      "execution_count": null,
      "metadata": {
        "id": "iS8de99DSJpW"
      },
      "outputs": [],
      "source": [
        "id_list = {keyword: [] for keyword in keywords}\n",
        "\n",
        "\n",
        "\n",
        "\n",
        "for keyword in keywords:\n",
        "  q = deque()\n",
        "  for i in range(0, 51, 10):\n",
        "    q.append(i)\n",
        "  while q:\n",
        "    i = q.popleft()\n",
        "    list_url = f\"https://www.linkedin.com/jobs-guest/jobs/api/seeMoreJobPostings/search?keywords={keyword}&start={i}\"\n",
        "\n",
        "    response = requests.get(list_url)\n",
        "    if not response.status_code == 200:\n",
        "        time.sleep(2)\n",
        "        q.append(i)\n",
        "        continue\n",
        "    list_data = response.text\n",
        "    list_soup = BeautifulSoup(list_data, \"html.parser\")\n",
        "    page_jobs = list_soup.find_all(\"li\")\n",
        "\n",
        "    for job in page_jobs:\n",
        "      base_card_div = job.find(\"div\", {\"class\": \"base-card\"})\n",
        "      job_id = base_card_div.get(\"data-entity-urn\").split(\":\")[3]\n",
        "      id_list[keyword].append(job_id)\n",
        "  print(len(id_list[keyword]))\n"
      ]
    },
    {
      "cell_type": "code",
      "execution_count": null,
      "metadata": {
        "id": "vohHSXJ4orEP"
      },
      "outputs": [],
      "source": [
        "print(len(id_list))\n",
        "job_list = []"
      ]
    },
    {
      "cell_type": "code",
      "execution_count": null,
      "metadata": {
        "id": "R5T-vplz3X3M"
      },
      "outputs": [],
      "source": [
        "q = deque()\n",
        "for keyword in id_list:\n",
        "  word = \" \".join(keyword.split(\"%20\"))\n",
        "  for job_id in id_list[keyword]:\n",
        "    q.append((job_id, word))"
      ]
    },
    {
      "cell_type": "markdown",
      "metadata": {
        "id": "wM1gIVSrRFAv"
      },
      "source": []
    },
    {
      "cell_type": "code",
      "execution_count": null,
      "metadata": {
        "id": "Y804sIMRQSK2"
      },
      "outputs": [],
      "source": [
        "while q:\n",
        "  job = q.popleft()\n",
        "  job_id = job[0]\n",
        "  keyword = job[1]\n",
        "  job_url = f\"https://www.linkedin.com/jobs-guest/jobs/api/jobPosting/{job_id}\"\n",
        "  job_response = requests.get(job_url)\n",
        "  job_soup = BeautifulSoup(job_response.text, \"html.parser\")\n",
        "  job_post = {}\n",
        "  if not job_response.status_code == 200:\n",
        "    q.append((job_id, keyword))\n",
        "    time.sleep(2)\n",
        "    continue\n",
        "  job_post[\"job_id\"] = job_id\n",
        "  job_post[\"keyword\"] = keyword\n",
        "  try:\n",
        "    job_post[\"job_title\"] = job_soup.find(\"h2\", {\"class\": \"top-card-layout__title font-sans text-lg papabear:text-xl font-bold leading-open text-color-text mb-0 topcard__title\"}).text.strip()\n",
        "  except:\n",
        "    job_post[\"job_title\"] = None\n",
        "  try:\n",
        "    job_post[\"company_name\"] = job_soup.find(\"a\", {\"class\": \"topcard__org-name-link topcard__flavor--black-link\"}).text.strip()\n",
        "  except:\n",
        "    job_post[\"company_name\"] = None\n",
        "  try:\n",
        "    job_post[\"time_posted\"] = job_soup.find(\"span\", {\"class\": \"posted-time-ago__text topcard__flavor--metadata\"}).text.strip()\n",
        "  except:\n",
        "    job_post[\"time_posted\"] = None\n",
        "  try:\n",
        "    job_post[\"num_applicants\"] = job_soup.find(\"span\", {\"class\": \"num-applicants__caption topcard__flavor--metadata topcard__flavor--bullet\"}).text.strip();\n",
        "  except:\n",
        "      try:\n",
        "        job_post[\"num_applicants\"] = job_soup.find(\"figcaption\", {\"class\": \"num-applicants__caption\"}).text.strip();\n",
        "      except:\n",
        "        job_post[\"num_applicants\"] = None\n",
        "  try:\n",
        "    job_post[\"location\"] = job_soup.find(\"span\", {\"class\": \"topcard__flavor topcard__flavor--bullet\"}).text.strip()\n",
        "  except:\n",
        "    job_post[\"location\"] = None\n",
        "  try:\n",
        "    job_post[\"experience_level\"] = job_soup.find_all(\"span\", {\"class\": \"description__job-criteria-text description__job-criteria-text--criteria\"})[0].text.strip()\n",
        "  except:\n",
        "    job_post[\"experience_level\"] = None\n",
        "  try:\n",
        "    job_post[\"employment_type\"] = job_soup.find_all(\"span\", {\"class\": \"description__job-criteria-text description__job-criteria-text--criteria\"})[1].text.strip()\n",
        "  except:\n",
        "    job_post[\"employment_type\"] = None\n",
        "\n",
        "  print(len(q))\n",
        "  print(len(job_list))\n",
        "  job_list.append(job_post)"
      ]
    },
    {
      "cell_type": "code",
      "execution_count": null,
      "metadata": {
        "id": "t1nH99Lx3fRD"
      },
      "outputs": [],
      "source": [
        "print(len(q))\n",
        "print(len(job_list))\n",
        "print(job_list)"
      ]
    },
    {
      "cell_type": "code",
      "execution_count": null,
      "metadata": {
        "id": "NsJDH80i8scS"
      },
      "outputs": [],
      "source": [
        "final = json.dumps(job_list, indent=2)\n"
      ]
    },
    {
      "cell_type": "code",
      "execution_count": null,
      "metadata": {
        "id": "9DiBigBB9bMF"
      },
      "outputs": [],
      "source": [
        "with open('Internships.json', 'w') as f:\n",
        "  f.write(final)"
      ]
    }
  ],
  "metadata": {
    "colab": {
      "provenance": [],
      "authorship_tag": "ABX9TyO1u7AWthA1R/Mn9sglEjIM",
      "include_colab_link": true
    },
    "kernelspec": {
      "display_name": "Python 3",
      "name": "python3"
    },
    "language_info": {
      "name": "python"
    }
  },
  "nbformat": 4,
  "nbformat_minor": 0
}